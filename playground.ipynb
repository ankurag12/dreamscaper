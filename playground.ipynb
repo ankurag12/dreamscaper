{
 "cells": [
  {
   "cell_type": "code",
   "execution_count": 12,
   "id": "a70842b9-7ba9-4a6b-8f89-a7acee584a93",
   "metadata": {},
   "outputs": [],
   "source": [
    "from huggingface_hub import InferenceClient\n"
   ]
  },
  {
   "cell_type": "code",
   "execution_count": 13,
   "id": "04bc06d1-68bb-4ebc-a30c-18a43fc77997",
   "metadata": {},
   "outputs": [],
   "source": [
    "def read_token():\n",
    "    with open(\".hf_token.txt\", \"r\") as f:\n",
    "        hf_token = f.read()\n",
    "    return hf_token\n",
    "\n",
    "\n",
    "    "
   ]
  },
  {
   "cell_type": "code",
   "execution_count": 14,
   "id": "86f2a8fb-f0d1-44d9-9cb3-f5a21d676130",
   "metadata": {},
   "outputs": [],
   "source": [
    "hf_token = read_token()\n",
    "client = InferenceClient(\"stabilityai/stable-diffusion-3.5-large\", token=hf_token)"
   ]
  },
  {
   "cell_type": "code",
   "execution_count": 16,
   "id": "ecb487f1-40c6-42eb-a215-f4e54bc1524c",
   "metadata": {},
   "outputs": [],
   "source": [
    "# output is a PIL.Image object\n",
    "image = client.text_to_image(\"Flying robots\")\n"
   ]
  },
  {
   "cell_type": "code",
   "execution_count": 5,
   "id": "493962c5-ce9a-453d-8d75-897badc68d9a",
   "metadata": {},
   "outputs": [
    {
     "data": {
      "text/plain": [
       "PIL.JpegImagePlugin.JpegImageFile"
      ]
     },
     "execution_count": 5,
     "metadata": {},
     "output_type": "execute_result"
    }
   ],
   "source": [
    "image.show()"
   ]
  },
  {
   "cell_type": "code",
   "execution_count": null,
   "id": "fe3dff40-243c-48e5-bbc1-badd2febf91b",
   "metadata": {},
   "outputs": [],
   "source": [
    "import PIL\n",
    "import requests\n",
    "from diffusers import StableDiffusionInstructPix2PixPipeline, EulerAncestralDiscreteScheduler\n",
    "\n",
    "model_id = \"timbrooks/instruct-pix2pix\"\n",
    "pipe = StableDiffusionInstructPix2PixPipeline.from_pretrained(model_id, torch_dtype=torch.float16, safety_checker=None)\n",
    "pipe.to(\"cuda\")\n",
    "pipe.scheduler = EulerAncestralDiscreteScheduler.from_config(pipe.scheduler.config)\n",
    "\n",
    "url = \"https://raw.githubusercontent.com/timothybrooks/instruct-pix2pix/main/imgs/example.jpg\"\n",
    "def download_image(url):\n",
    "    image = PIL.Image.open(requests.get(url, stream=True).raw)\n",
    "    image = PIL.ImageOps.exif_transpose(image)\n",
    "    image = image.convert(\"RGB\")\n",
    "    return image\n",
    "image = download_image(url)\n",
    "\n",
    "prompt = \"turn him into cyborg\"\n",
    "images = pipe(prompt, image=image, num_inference_steps=10, image_guidance_scale=1).images\n",
    "images[0]\n"
   ]
  },
  {
   "cell_type": "code",
   "execution_count": null,
   "id": "e24f2632-a1fb-40a3-9672-753e31694348",
   "metadata": {},
   "outputs": [],
   "source": []
  },
  {
   "cell_type": "code",
   "execution_count": 7,
   "id": "5e34789b-22bf-4677-b3ad-38f6c12e4fa5",
   "metadata": {},
   "outputs": [],
   "source": [
    "def read_access_key():\n",
    "    with open(\".pico_access_key.txt\", \"r\") as f:\n",
    "        access_key = f.read()\n",
    "    return access_key\n",
    "pico_access_key = read_access_key()"
   ]
  },
  {
   "cell_type": "code",
   "execution_count": 9,
   "id": "0e6e232e-aa90-41a8-9f12-75f5d8cc9349",
   "metadata": {},
   "outputs": [
    {
     "name": "stdout",
     "output_type": "stream",
     "text": [
      "Stopping ...\n"
     ]
    }
   ],
   "source": [
    "import pvporcupine\n",
    "from pvrecorder import PvRecorder\n",
    "from datetime import datetime\n",
    "\n",
    "\n",
    "keywords=['picovoice', 'bumblebee']\n",
    "\n",
    "porcupine = pvporcupine.create(\n",
    "    access_key=pico_access_key,\n",
    "    keywords=keywords\n",
    ")\n",
    "\n",
    "recorder = PvRecorder(\n",
    "    frame_length=porcupine.frame_length)\n",
    "\n",
    "recorder.start()\n",
    "\n",
    "\n",
    "def get_next_audio_frame():\n",
    "    pass\n",
    "\n",
    "try:\n",
    "    while True:\n",
    "        pcm = recorder.read()\n",
    "        keyword_index = porcupine.process(pcm)\n",
    "        \n",
    "        if keyword_index >= 0:\n",
    "            print(f\"[{datetime.now()}] Detected {keywords[keyword_index]}\")\n",
    "    \n",
    "except KeyboardInterrupt:\n",
    "    print('Stopping ...')\n",
    "except Exception as e:\n",
    "    print(e)\n",
    "    \n",
    "finally:\n",
    "    recorder.delete()\n",
    "    porcupine.delete()\n",
    "    \n",
    "    "
   ]
  },
  {
   "cell_type": "code",
   "execution_count": 10,
   "id": "672207e3-c522-4a01-a6fc-295f7733aeb1",
   "metadata": {},
   "outputs": [
    {
     "name": "stdout",
     "output_type": "stream",
     "text": [
      "Listening... (press Ctrl+C to stop)\n",
      "\n"
     ]
    }
   ],
   "source": [
    "import pvcheetah\n",
    "from pvrecorder import PvRecorder\n",
    "\n",
    "cheetah = pvcheetah.create(\n",
    "    access_key=pico_access_key,\n",
    "    endpoint_duration_sec=2)\n",
    "\n",
    "try:\n",
    "    recorder = PvRecorder(frame_length=cheetah.frame_length)\n",
    "    recorder.start()\n",
    "    \n",
    "    print('Listening... (press Ctrl+C to stop)')\n",
    "\n",
    "    try:\n",
    "        while True:\n",
    "            partial_transcript, is_endpoint = cheetah.process(recorder.read())\n",
    "            print(partial_transcript, end='', flush=True)\n",
    "            if is_endpoint:\n",
    "                print(cheetah.flush())\n",
    "    finally:\n",
    "        print()\n",
    "        recorder.stop()\n",
    "\n",
    "except KeyboardInterrupt:\n",
    "    pass\n",
    "except Exception as e:\n",
    "    print(e)\n",
    "finally:\n",
    "    cheetah.delete()"
   ]
  },
  {
   "cell_type": "code",
   "execution_count": 2,
   "id": "cfae418b-0ecd-4779-81ec-0804feb5efc8",
   "metadata": {},
   "outputs": [
    {
     "name": "stdout",
     "output_type": "stream",
     "text": [
      "900\n"
     ]
    }
   ],
   "source": [
    "from PIL import Image, ImageSequence\n",
    "\n",
    "# Load GIF\n",
    "gif = Image.open(\"/Users/ankuragrawal/Downloads/loading.gif\")\n",
    "\n",
    "# Create sprite sheet (calculate width and height)\n",
    "frame_width, frame_height = gif.size\n",
    "num_frames = gif.n_frames\n",
    "sprite_sheet = Image.new(\"RGBA\", (frame_width * num_frames, frame_height))\n",
    "\n",
    "# Paste frames side by side\n",
    "for i, frame in enumerate(ImageSequence.Iterator(gif)):\n",
    "    sprite_sheet.paste(frame, (i * frame_width, 0))\n",
    "\n",
    "# Save sprite sheet\n",
    "sprite_sheet.save(\"loading_spritesheet.png\")\n",
    "print(num_frames)"
   ]
  },
  {
   "cell_type": "code",
   "execution_count": 3,
   "id": "e17d3991-2a97-46ac-a56a-55aae9d15924",
   "metadata": {},
   "outputs": [
    {
     "data": {
      "text/plain": [
       "(900, 512, 512)"
      ]
     },
     "execution_count": 3,
     "metadata": {},
     "output_type": "execute_result"
    }
   ],
   "source": [
    "num_frames, frame_width, frame_height"
   ]
  },
  {
   "cell_type": "code",
   "execution_count": 5,
   "id": "c382c16a-fef8-4538-8c2d-5a9f2a5a4d70",
   "metadata": {},
   "outputs": [],
   "source": [
    "sprite_sheet_size = sprite_sheet.get_size()\n",
    "frame_width = sprite_sheet_size[0] // num_frames\n",
    "frame_height = sprite_sheet_size[1]"
   ]
  },
  {
   "cell_type": "code",
   "execution_count": 1,
   "id": "0bdf62f1-d757-48a8-a1de-1689e94683c0",
   "metadata": {},
   "outputs": [
    {
     "name": "stdout",
     "output_type": "stream",
     "text": [
      "50.0\n"
     ]
    }
   ],
   "source": [
    "from PIL import Image\n",
    "print(1000 / Image.open(\"/Users/ankuragrawal/Downloads/loading.gif\").info['duration'])"
   ]
  },
  {
   "cell_type": "code",
   "execution_count": null,
   "id": "9413c890-8b78-4481-abd5-61f5c195bd18",
   "metadata": {},
   "outputs": [],
   "source": []
  }
 ],
 "metadata": {
  "kernelspec": {
   "display_name": "Python 3 (ipykernel)",
   "language": "python",
   "name": "python3"
  },
  "language_info": {
   "codemirror_mode": {
    "name": "ipython",
    "version": 3
   },
   "file_extension": ".py",
   "mimetype": "text/x-python",
   "name": "python",
   "nbconvert_exporter": "python",
   "pygments_lexer": "ipython3",
   "version": "3.11.10"
  }
 },
 "nbformat": 4,
 "nbformat_minor": 5
}
