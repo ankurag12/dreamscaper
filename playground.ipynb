{
 "cells": [
  {
   "cell_type": "code",
   "execution_count": 4,
   "id": "a70842b9-7ba9-4a6b-8f89-a7acee584a93",
   "metadata": {},
   "outputs": [],
   "source": [
    "from huggingface_hub import InferenceClient\n"
   ]
  },
  {
   "cell_type": "code",
   "execution_count": 5,
   "id": "04bc06d1-68bb-4ebc-a30c-18a43fc77997",
   "metadata": {},
   "outputs": [],
   "source": [
    "def read_token():\n",
    "    with open(\".token.txt\", \"r\") as f:\n",
    "        token = f.read()\n",
    "    return token"
   ]
  },
  {
   "cell_type": "code",
   "execution_count": null,
   "id": "86f2a8fb-f0d1-44d9-9cb3-f5a21d676130",
   "metadata": {},
   "outputs": [],
   "source": [
    "token = read_token()\n",
    "client = InferenceClient(\"black-forest-labs/FLUX.1-dev\", token=token)\n",
    "\n",
    "# output is a PIL.Image object\n",
    "image = client.text_to_image(\"Astronaut riding a horse on moon\")"
   ]
  },
  {
   "cell_type": "code",
   "execution_count": 7,
   "id": "ecb487f1-40c6-42eb-a215-f4e54bc1524c",
   "metadata": {},
   "outputs": [],
   "source": [
    "image.show()"
   ]
  },
  {
   "cell_type": "code",
   "execution_count": null,
   "id": "d718baee-dc18-4fc2-8570-e8dd6e6b6145",
   "metadata": {},
   "outputs": [],
   "source": []
  }
 ],
 "metadata": {
  "kernelspec": {
   "display_name": "Python 3 (ipykernel)",
   "language": "python",
   "name": "python3"
  },
  "language_info": {
   "codemirror_mode": {
    "name": "ipython",
    "version": 3
   },
   "file_extension": ".py",
   "mimetype": "text/x-python",
   "name": "python",
   "nbconvert_exporter": "python",
   "pygments_lexer": "ipython3",
   "version": "3.13.0"
  }
 },
 "nbformat": 4,
 "nbformat_minor": 5
}
