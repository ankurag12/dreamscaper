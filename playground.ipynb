{
 "cells": [
  {
   "cell_type": "code",
   "execution_count": 1,
   "id": "a70842b9-7ba9-4a6b-8f89-a7acee584a93",
   "metadata": {},
   "outputs": [],
   "source": [
    "from huggingface_hub import InferenceClient\n"
   ]
  },
  {
   "cell_type": "code",
   "execution_count": 2,
   "id": "04bc06d1-68bb-4ebc-a30c-18a43fc77997",
   "metadata": {},
   "outputs": [],
   "source": [
    "def read_token():\n",
    "    with open(\".hf_token.txt\", \"r\") as f:\n",
    "        hf_token = f.read()\n",
    "    return hf_token\n",
    "\n",
    "\n",
    "    "
   ]
  },
  {
   "cell_type": "code",
   "execution_count": 3,
   "id": "86f2a8fb-f0d1-44d9-9cb3-f5a21d676130",
   "metadata": {},
   "outputs": [],
   "source": [
    "hf_token = read_token()\n",
    "client = InferenceClient(\"stabilityai/stable-diffusion-3.5-large\", token=hf_token)"
   ]
  },
  {
   "cell_type": "code",
   "execution_count": 4,
   "id": "ecb487f1-40c6-42eb-a215-f4e54bc1524c",
   "metadata": {},
   "outputs": [],
   "source": [
    "# output is a PIL.Image object\n",
    "image = client.text_to_image(\"Flying robots\")\n",
    "image.show()"
   ]
  },
  {
   "cell_type": "code",
   "execution_count": 5,
   "id": "493962c5-ce9a-453d-8d75-897badc68d9a",
   "metadata": {},
   "outputs": [
    {
     "data": {
      "text/plain": [
       "PIL.JpegImagePlugin.JpegImageFile"
      ]
     },
     "execution_count": 5,
     "metadata": {},
     "output_type": "execute_result"
    }
   ],
   "source": [
    "type(image)"
   ]
  },
  {
   "cell_type": "code",
   "execution_count": null,
   "id": "fe3dff40-243c-48e5-bbc1-badd2febf91b",
   "metadata": {},
   "outputs": [],
   "source": [
    "import PIL\n",
    "import requests\n",
    "from diffusers import StableDiffusionInstructPix2PixPipeline, EulerAncestralDiscreteScheduler\n",
    "\n",
    "model_id = \"timbrooks/instruct-pix2pix\"\n",
    "pipe = StableDiffusionInstructPix2PixPipeline.from_pretrained(model_id, torch_dtype=torch.float16, safety_checker=None)\n",
    "pipe.to(\"cuda\")\n",
    "pipe.scheduler = EulerAncestralDiscreteScheduler.from_config(pipe.scheduler.config)\n",
    "\n",
    "url = \"https://raw.githubusercontent.com/timothybrooks/instruct-pix2pix/main/imgs/example.jpg\"\n",
    "def download_image(url):\n",
    "    image = PIL.Image.open(requests.get(url, stream=True).raw)\n",
    "    image = PIL.ImageOps.exif_transpose(image)\n",
    "    image = image.convert(\"RGB\")\n",
    "    return image\n",
    "image = download_image(url)\n",
    "\n",
    "prompt = \"turn him into cyborg\"\n",
    "images = pipe(prompt, image=image, num_inference_steps=10, image_guidance_scale=1).images\n",
    "images[0]\n"
   ]
  },
  {
   "cell_type": "code",
   "execution_count": null,
   "id": "e24f2632-a1fb-40a3-9672-753e31694348",
   "metadata": {},
   "outputs": [],
   "source": []
  },
  {
   "cell_type": "code",
   "execution_count": 1,
   "id": "5e34789b-22bf-4677-b3ad-38f6c12e4fa5",
   "metadata": {},
   "outputs": [],
   "source": [
    "def read_access_key():\n",
    "    with open(\".pico_access_key.txt\", \"r\") as f:\n",
    "        access_key = f.read()\n",
    "    return access_key\n",
    "pico_access_key = read_access_key()"
   ]
  },
  {
   "cell_type": "code",
   "execution_count": 11,
   "id": "0e6e232e-aa90-41a8-9f12-75f5d8cc9349",
   "metadata": {},
   "outputs": [
    {
     "name": "stdout",
     "output_type": "stream",
     "text": [
      "[2025-01-20 23:21:54.880386] Detected picovoice\n",
      "[2025-01-20 23:22:03.932136] Detected bumblebee\n",
      "Stopping ...\n"
     ]
    }
   ],
   "source": [
    "import pvporcupine\n",
    "from pvrecorder import PvRecorder\n",
    "from datetime import datetime\n",
    "\n",
    "\n",
    "keywords=['picovoice', 'bumblebee']\n",
    "\n",
    "porcupine = pvporcupine.create(\n",
    "    access_key=pico_access_key,\n",
    "    keywords=keywords\n",
    ")\n",
    "\n",
    "recorder = PvRecorder(\n",
    "    frame_length=porcupine.frame_length)\n",
    "\n",
    "recorder.start()\n",
    "\n",
    "\n",
    "def get_next_audio_frame():\n",
    "    pass\n",
    "\n",
    "try:\n",
    "    while True:\n",
    "        pcm = recorder.read()\n",
    "        keyword_index = porcupine.process(pcm)\n",
    "        \n",
    "        if keyword_index >= 0:\n",
    "            print(f\"[{datetime.now()}] Detected {keywords[keyword_index]}\")\n",
    "    \n",
    "except KeyboardInterrupt:\n",
    "    print('Stopping ...')\n",
    "except Exception as e:\n",
    "    print(e)\n",
    "    \n",
    "finally:\n",
    "    recorder.delete()\n",
    "    porcupine.delete()\n",
    "    \n",
    "    "
   ]
  },
  {
   "cell_type": "code",
   "execution_count": null,
   "id": "672207e3-c522-4a01-a6fc-295f7733aeb1",
   "metadata": {},
   "outputs": [],
   "source": [
    "import pvcheetah\n",
    "from pvrecorder import PvRecorder\n",
    "\n",
    "cheetah = pvcheetah.create(\n",
    "    access_key=pico_access_key,\n",
    "    endpoint_duration_sec=2)\n",
    "\n",
    "try:\n",
    "    recorder = PvRecorder(frame_length=cheetah.frame_length)\n",
    "    recorder.start()\n",
    "    \n",
    "    print('Listening... (press Ctrl+C to stop)')\n",
    "\n",
    "    try:\n",
    "        while True:\n",
    "            partial_transcript, is_endpoint = cheetah.process(recorder.read())\n",
    "            print(partial_transcript, end='', flush=True)\n",
    "            if is_endpoint:\n",
    "                print(cheetah.flush())\n",
    "    finally:\n",
    "        print()\n",
    "        recorder.stop()\n",
    "\n",
    "except KeyboardInterrupt:\n",
    "    pass\n",
    "except Exception as e:\n",
    "    print(e)\n",
    "finally:\n",
    "    cheetah.delete()"
   ]
  },
  {
   "cell_type": "code",
   "execution_count": 3,
   "id": "3131b17b-a5d8-4b27-8f5a-4e5de69d73da",
   "metadata": {},
   "outputs": [
    {
     "name": "stdout",
     "output_type": "stream",
     "text": [
      "pygame 2.6.1 (SDL 2.28.4, Python 3.11.10)\n",
      "Hello from the pygame community. https://www.pygame.org/contribute.html\n"
     ]
    },
    {
     "ename": "FileNotFoundError",
     "evalue": "No file 'path/to/your/image.jpg' found in working directory '/Users/ankuragrawal/workspace/ankurag12/dreamscaper'.",
     "output_type": "error",
     "traceback": [
      "\u001b[0;31m---------------------------------------------------------------------------\u001b[0m",
      "\u001b[0;31mFileNotFoundError\u001b[0m                         Traceback (most recent call last)",
      "Cell \u001b[0;32mIn[3], line 17\u001b[0m\n\u001b[1;32m     15\u001b[0m \u001b[38;5;66;03m# Load an image\u001b[39;00m\n\u001b[1;32m     16\u001b[0m image_path \u001b[38;5;241m=\u001b[39m \u001b[38;5;124m\"\u001b[39m\u001b[38;5;124mpath/to/your/image.jpg\u001b[39m\u001b[38;5;124m\"\u001b[39m  \u001b[38;5;66;03m# Replace with your image path\u001b[39;00m\n\u001b[0;32m---> 17\u001b[0m image \u001b[38;5;241m=\u001b[39m \u001b[43mpygame\u001b[49m\u001b[38;5;241;43m.\u001b[39;49m\u001b[43mimage\u001b[49m\u001b[38;5;241;43m.\u001b[39;49m\u001b[43mload\u001b[49m\u001b[43m(\u001b[49m\u001b[43mimage_path\u001b[49m\u001b[43m)\u001b[49m\n\u001b[1;32m     18\u001b[0m image \u001b[38;5;241m=\u001b[39m pygame\u001b[38;5;241m.\u001b[39mtransform\u001b[38;5;241m.\u001b[39mscale(image, (\u001b[38;5;241m800\u001b[39m, \u001b[38;5;241m600\u001b[39m))  \u001b[38;5;66;03m# Resize the image to fit\u001b[39;00m\n\u001b[1;32m     20\u001b[0m \u001b[38;5;66;03m# Define a font\u001b[39;00m\n",
      "\u001b[0;31mFileNotFoundError\u001b[0m: No file 'path/to/your/image.jpg' found in working directory '/Users/ankuragrawal/workspace/ankurag12/dreamscaper'."
     ]
    }
   ],
   "source": [
    "import pygame\n",
    "import sys\n",
    "\n",
    "# Initialize Pygame\n",
    "pygame.init()\n",
    "\n",
    "# Set up the display\n",
    "screen = pygame.display.set_mode((0, 0), pygame.FULLSCREEN)  # Fullscreen mode\n",
    "pygame.display.set_caption(\"Pygame Dashboard\")\n",
    "\n",
    "# Define colors\n",
    "BLACK = (0, 0, 0)\n",
    "WHITE = (255, 255, 255)\n",
    "\n",
    "# Load an image\n",
    "image_path = \"path/to/your/image.jpg\"  # Replace with your image path\n",
    "image = pygame.image.load(image_path)\n",
    "image = pygame.transform.scale(image, (800, 600))  # Resize the image to fit\n",
    "\n",
    "# Define a font\n",
    "font = pygame.font.Font(None, 74)  # None uses the default font\n",
    "\n",
    "# Display text\n",
    "message = \"Welcome to the Pygame Dashboard!\"\n",
    "\n",
    "# Main loop\n",
    "running = True\n",
    "while running:\n",
    "    for event in pygame.event.get():\n",
    "        if event.type == pygame.QUIT:  # Quit event\n",
    "            running = False\n",
    "        if event.type == pygame.KEYDOWN and event.key == pygame.K_ESCAPE:  # Exit on ESC\n",
    "            running = False\n",
    "\n",
    "    # Fill the screen with a background color\n",
    "    screen.fill(BLACK)\n",
    "\n",
    "    # Render the text\n",
    "    text = font.render(message, True, WHITE)\n",
    "    text_rect = text.get_rect(center=(screen.get_width() // 2, 100))  # Center the text\n",
    "    screen.blit(text, text_rect)\n",
    "\n",
    "    # Render the image\n",
    "    image_rect = image.get_rect(center=(screen.get_width() // 2, screen.get_height() // 2))\n",
    "    screen.blit(image, image_rect)\n",
    "\n",
    "    # Update the display\n",
    "    pygame.display.flip()\n",
    "\n",
    "# Quit Pygame\n",
    "pygame.quit()\n",
    "sys.exit()\n"
   ]
  },
  {
   "cell_type": "code",
   "execution_count": null,
   "id": "e1a9aecc-3b3c-4429-bf8d-40947bfcfb01",
   "metadata": {},
   "outputs": [],
   "source": []
  }
 ],
 "metadata": {
  "kernelspec": {
   "display_name": "Python 3 (ipykernel)",
   "language": "python",
   "name": "python3"
  },
  "language_info": {
   "codemirror_mode": {
    "name": "ipython",
    "version": 3
   },
   "file_extension": ".py",
   "mimetype": "text/x-python",
   "name": "python",
   "nbconvert_exporter": "python",
   "pygments_lexer": "ipython3",
   "version": "3.11.10"
  }
 },
 "nbformat": 4,
 "nbformat_minor": 5
}
